{
 "cells": [
  {
   "cell_type": "markdown",
   "metadata": {},
   "source": [
    "# Profitable App Profiles for the App Store and Google Play Markets\n",
    "\n",
    "This project is about the App profiles.\n",
    "The goal of this project is to help the developers understand what type of apps are likely to attract more users on Google Play and the App Store. This project will only focus on free apps.\n",
    "\n",
    "### Summary of results\n",
    "After analyzing data about the App Store and Google Play mobile apps with the goal of recommending an app profile that can be profitable for both markets. It can be concluded that Weather app could be profitable for App Store and Personalization app could be profitable for Google Play Store market."
   ]
  },
  {
   "cell_type": "markdown",
   "metadata": {},
   "source": [
    "## Reading in data"
   ]
  },
  {
   "cell_type": "code",
   "execution_count": 36,
   "metadata": {},
   "outputs": [],
   "source": [
    "# The Google Play data set\n",
    "from csv import reader\n",
    "opened_file = open('googleplaystore.csv')\n",
    "reader_file = reader(opened_file)\n",
    "an_apps_data = list(reader_file)\n",
    "an_apps_header = an_apps_data[0]\n",
    "an_apps_data = an_apps_data[1:]\n",
    "\n",
    "# Apple store data set\n",
    "opened_file = open('AppleStore.csv')\n",
    "reader_file = reader(opened_file)\n",
    "ios_apps_data = list(reader_file)\n",
    "ios_apps_header = ios_apps_data[0]\n",
    "ios_apps_data = ios_apps_data[1:]"
   ]
  },
  {
   "cell_type": "markdown",
   "metadata": {},
   "source": [
    "## Exploring data"
   ]
  },
  {
   "cell_type": "code",
   "execution_count": 2,
   "metadata": {},
   "outputs": [],
   "source": [
    "def explore_data(dataset, start, end, rows_and_column=False):\n",
    "    # define function to explore data and show number of row and column\n",
    "    data_slice = dataset[start:end]\n",
    "    for row in data_slice:\n",
    "        print(row)\n",
    "        print('\\n') \n",
    "        \n",
    "    if rows_and_column:\n",
    "            print('Number of rows: ', len(dataset))\n",
    "            print('Number of columns: ', len(dataset[0]))\n",
    "    "
   ]
  },
  {
   "cell_type": "code",
   "execution_count": 3,
   "metadata": {},
   "outputs": [
    {
     "name": "stdout",
     "output_type": "stream",
     "text": [
      "Google play store:\n",
      "\n",
      "\n",
      "['App', 'Category', 'Rating', 'Reviews', 'Size', 'Installs', 'Type', 'Price', 'Content Rating', 'Genres', 'Last Updated', 'Current Ver', 'Android Ver']\n",
      "\n",
      "\n",
      "['Photo Editor & Candy Camera & Grid & ScrapBook', 'ART_AND_DESIGN', '4.1', '159', '19M', '10,000+', 'Free', '0', 'Everyone', 'Art & Design', 'January 7, 2018', '1.0.0', '4.0.3 and up']\n",
      "\n",
      "\n",
      "['Coloring book moana', 'ART_AND_DESIGN', '3.9', '967', '14M', '500,000+', 'Free', '0', 'Everyone', 'Art & Design;Pretend Play', 'January 15, 2018', '2.0.0', '4.0.3 and up']\n",
      "\n",
      "\n",
      "Number of rows:  10841\n",
      "Number of columns:  13\n"
     ]
    }
   ],
   "source": [
    "# explore data in Google Play data set\n",
    "print('Google play store:')\n",
    "print('\\n')\n",
    "print(an_apps_header)\n",
    "print('\\n')\n",
    "explore_data(an_apps_data, 0, 2, True)"
   ]
  },
  {
   "cell_type": "markdown",
   "metadata": {},
   "source": [
    "we can see that there are 10841 apps and 13 columns for each app in the Google play store data set. "
   ]
  },
  {
   "cell_type": "code",
   "execution_count": 4,
   "metadata": {
    "scrolled": true
   },
   "outputs": [
    {
     "name": "stdout",
     "output_type": "stream",
     "text": [
      "App store:\n",
      "\n",
      "\n",
      "['id', 'track_name', 'size_bytes', 'currency', 'price', 'rating_count_tot', 'rating_count_ver', 'user_rating', 'user_rating_ver', 'ver', 'cont_rating', 'prime_genre', 'sup_devices.num', 'ipadSc_urls.num', 'lang.num', 'vpp_lic']\n",
      "\n",
      "\n",
      "['284882215', 'Facebook', '389879808', 'USD', '0.0', '2974676', '212', '3.5', '3.5', '95.0', '4+', 'Social Networking', '37', '1', '29', '1']\n",
      "\n",
      "\n",
      "['389801252', 'Instagram', '113954816', 'USD', '0.0', '2161558', '1289', '4.5', '4.0', '10.23', '12+', 'Photo & Video', '37', '0', '29', '1']\n",
      "\n",
      "\n",
      "Number of rows:  7197\n",
      "Number of columns:  16\n"
     ]
    }
   ],
   "source": [
    "# explore data in App store data set\n",
    "print('App store:')\n",
    "print('\\n')\n",
    "print(ios_apps_header)\n",
    "print('\\n')\n",
    "explore_data(ios_apps_data, 0, 2, True)"
   ]
  },
  {
   "cell_type": "markdown",
   "metadata": {},
   "source": [
    "we can see that there are 7197 apps and 16 columns for each app in the Apple store data set. For the meaning of the column name, please refer to the [documentation][1]\n",
    "\n",
    "[1]: https://www.kaggle.com/ramamet4/app-store-apple-data-set-10k-apps/home?select=AppleStore.csv"
   ]
  },
  {
   "cell_type": "markdown",
   "metadata": {},
   "source": [
    "## Deleting wrong data"
   ]
  },
  {
   "cell_type": "markdown",
   "metadata": {},
   "source": [
    "**Google play Store:**"
   ]
  },
  {
   "cell_type": "code",
   "execution_count": 5,
   "metadata": {},
   "outputs": [
    {
     "name": "stdout",
     "output_type": "stream",
     "text": [
      "['Life Made WI-Fi Touchscreen Photo Frame', '1.9', '19', '3.0M', '1,000+', 'Free', '0', 'Everyone', '', 'February 11, 2018', '1.0.19', '4.0 and up']\n",
      "10472\n"
     ]
    }
   ],
   "source": [
    "# find out incorrect row which has different length\n",
    "for row in an_apps_data:\n",
    "    if len(row) != len(an_apps_header):\n",
    "        print(row)\n",
    "        print(an_apps_data.index(row))"
   ]
  },
  {
   "cell_type": "markdown",
   "metadata": {},
   "source": [
    "In android dataset, by comparing the data set length and data header length, it's found that some data in entry 10472 is missing, therefore entry 10472 will be deleted."
   ]
  },
  {
   "cell_type": "code",
   "execution_count": 6,
   "metadata": {},
   "outputs": [],
   "source": [
    "# delete incorrect row\n",
    "del an_apps_data[10472]"
   ]
  },
  {
   "cell_type": "markdown",
   "metadata": {},
   "source": [
    "**App Store:**"
   ]
  },
  {
   "cell_type": "code",
   "execution_count": 7,
   "metadata": {},
   "outputs": [],
   "source": [
    "# find out incorrect row which has different length\n",
    "for row in ios_apps_data:\n",
    "    if len(row) != len(ios_apps_header):\n",
    "        print(row)\n",
    "        print(ios_apps_data.index(row))"
   ]
  },
  {
   "cell_type": "markdown",
   "metadata": {
    "collapsed": true
   },
   "source": [
    "0 entry with missing data was found in IOS dataset."
   ]
  },
  {
   "cell_type": "markdown",
   "metadata": {},
   "source": [
    "## Removing duplicate entries\n",
    "**Google Play Store:**"
   ]
  },
  {
   "cell_type": "code",
   "execution_count": 8,
   "metadata": {},
   "outputs": [
    {
     "name": "stdout",
     "output_type": "stream",
     "text": [
      "Number of duplicate app in Android dataset  1181\n",
      "\n",
      "\n",
      "Example:  ['Quick PDF Scanner + OCR FREE', 'Box', 'Google My Business', 'ZOOM Cloud Meetings', 'join.me - Simple Meetings']\n"
     ]
    }
   ],
   "source": [
    "# find out duplicate entries\n",
    "unique_apps = []\n",
    "duplicate_apps = []\n",
    "\n",
    "for app in an_apps_data:\n",
    "    name = app[0]\n",
    "    if name in unique_apps:\n",
    "        duplicate_apps.append(name)\n",
    "    else:\n",
    "        unique_apps.append(name)\n",
    "        \n",
    "print('Number of duplicate app in Android dataset ', len(duplicate_apps))\n",
    "print('\\n')\n",
    "print('Example: ', duplicate_apps[0:5])"
   ]
  },
  {
   "cell_type": "markdown",
   "metadata": {},
   "source": [
    "1181 entries with same app name were found in android dataset. Duplicates will be deletedonly and only entries with hightest number of reviews will be kept. "
   ]
  },
  {
   "cell_type": "code",
   "execution_count": 9,
   "metadata": {},
   "outputs": [
    {
     "name": "stdout",
     "output_type": "stream",
     "text": [
      "Expected Number of entries after cleaning:  9659\n"
     ]
    }
   ],
   "source": [
    "# calculate expected number of entries after cleaning\n",
    "print('Expected Number of entries after cleaning: ', len(an_apps_data) - len(duplicate_apps))"
   ]
  },
  {
   "cell_type": "code",
   "execution_count": 10,
   "metadata": {},
   "outputs": [
    {
     "name": "stdout",
     "output_type": "stream",
     "text": [
      "Length of actual dataset after cleaning:  9659\n"
     ]
    }
   ],
   "source": [
    "# remove duplicated entries\n",
    "reviews_max = {}\n",
    "for app in an_apps_data:\n",
    "    name = app[0]\n",
    "    n_reviews = float(app[3])\n",
    "    if name in reviews_max and reviews_max[name] < n_reviews:\n",
    "        reviews_max[name] = n_reviews\n",
    "    elif name not in reviews_max:\n",
    "        reviews_max[name] = n_reviews\n",
    "        \n",
    "android_clean = []\n",
    "already_added = []\n",
    "\n",
    "for app in an_apps_data:\n",
    "    name = app[0]\n",
    "    n_reviews = float(app[3])\n",
    "    if n_reviews == reviews_max[name] and name not in already_added:\n",
    "        android_clean.append(app)\n",
    "        already_added.append(name)\n",
    "        \n",
    "print('Length of actual dataset after cleaning: ', len(android_clean))"
   ]
  },
  {
   "cell_type": "markdown",
   "metadata": {},
   "source": [
    "the *reviews_max* dictionary was used to remove the duplicates. For the duplicate cases, only the entries with the highest number of reviews were kept."
   ]
  },
  {
   "cell_type": "code",
   "execution_count": 11,
   "metadata": {},
   "outputs": [
    {
     "name": "stdout",
     "output_type": "stream",
     "text": [
      "['Photo Editor & Candy Camera & Grid & ScrapBook', 'ART_AND_DESIGN', '4.1', '159', '19M', '10,000+', 'Free', '0', 'Everyone', 'Art & Design', 'January 7, 2018', '1.0.0', '4.0.3 and up']\n",
      "\n",
      "\n",
      "['U Launcher Lite – FREE Live Cool Themes, Hide Apps', 'ART_AND_DESIGN', '4.7', '87510', '8.7M', '5,000,000+', 'Free', '0', 'Everyone', 'Art & Design', 'August 1, 2018', '1.2.4', '4.0.3 and up']\n",
      "\n",
      "\n",
      "Number of rows:  9659\n",
      "Number of columns:  13\n"
     ]
    }
   ],
   "source": [
    "# confirm result\n",
    "explore_data(android_clean, 0, 2, True)"
   ]
  },
  {
   "cell_type": "markdown",
   "metadata": {},
   "source": [
    "We have 9659 rows, just as expected."
   ]
  },
  {
   "cell_type": "markdown",
   "metadata": {},
   "source": [
    "**App Store:**"
   ]
  },
  {
   "cell_type": "code",
   "execution_count": 12,
   "metadata": {},
   "outputs": [
    {
     "name": "stdout",
     "output_type": "stream",
     "text": [
      "Number of duplicate app in IOS dataset:  2\n",
      "\n",
      "\n",
      "Example:  ['Mannequin Challenge', 'VR Roller Coaster']\n"
     ]
    }
   ],
   "source": [
    "# find out duplicated entries\n",
    "unique_apps = []\n",
    "duplicate_apps = []\n",
    "\n",
    "for app in ios_apps_data:\n",
    "    name = app[1]\n",
    "    if name in unique_apps:\n",
    "        duplicate_apps.append(name)\n",
    "    else:\n",
    "        unique_apps.append(name)\n",
    "        \n",
    "print('Number of duplicate app in IOS dataset: ', len(duplicate_apps))\n",
    "print('\\n')\n",
    "print('Example: ', duplicate_apps[0:5])"
   ]
  },
  {
   "cell_type": "markdown",
   "metadata": {},
   "source": [
    "2 entries with same app name were found in IOS dataset. Duplicates will be deletedonly and only entries with hightest number of reviews will be kept. "
   ]
  },
  {
   "cell_type": "code",
   "execution_count": 13,
   "metadata": {},
   "outputs": [
    {
     "name": "stdout",
     "output_type": "stream",
     "text": [
      "Expected Number of entries after cleaning:  7195\n"
     ]
    }
   ],
   "source": [
    "# calculate expected number after cleaning\n",
    "print('Expected Number of entries after cleaning: ', len(ios_apps_data) - len(duplicate_apps))"
   ]
  },
  {
   "cell_type": "code",
   "execution_count": 14,
   "metadata": {},
   "outputs": [
    {
     "name": "stdout",
     "output_type": "stream",
     "text": [
      "Length of actual dataset after cleaning:  7195\n"
     ]
    }
   ],
   "source": [
    "# remove duplicated entries\n",
    "reviews_max = {}\n",
    "for app in ios_apps_data:\n",
    "    name = app[1]\n",
    "    n_reviews = float(app[5])\n",
    "    if name in reviews_max and reviews_max[name] < n_reviews:\n",
    "        reviews_max[name] = n_reviews\n",
    "    elif name not in reviews_max:\n",
    "        reviews_max[name] = n_reviews\n",
    "        \n",
    "ios_clean = []\n",
    "already_added = []\n",
    "\n",
    "for app in ios_apps_data:\n",
    "    name = app[1]\n",
    "    n_reviews = float(app[5])\n",
    "    if n_reviews == reviews_max[name] and name not in already_added:\n",
    "        ios_clean.append(app)\n",
    "        already_added.append(name)\n",
    "        \n",
    "print('Length of actual dataset after cleaning: ', len(ios_clean))"
   ]
  },
  {
   "cell_type": "code",
   "execution_count": 15,
   "metadata": {},
   "outputs": [
    {
     "name": "stdout",
     "output_type": "stream",
     "text": [
      "['284882215', 'Facebook', '389879808', 'USD', '0.0', '2974676', '212', '3.5', '3.5', '95.0', '4+', 'Social Networking', '37', '1', '29', '1']\n",
      "\n",
      "\n",
      "['389801252', 'Instagram', '113954816', 'USD', '0.0', '2161558', '1289', '4.5', '4.0', '10.23', '12+', 'Photo & Video', '37', '0', '29', '1']\n",
      "\n",
      "\n",
      "Number of rows:  7195\n",
      "Number of columns:  16\n"
     ]
    }
   ],
   "source": [
    "# confirm result\n",
    "explore_data(ios_clean, 0, 2, True)"
   ]
  },
  {
   "cell_type": "markdown",
   "metadata": {},
   "source": [
    "We have 7195 rows, just as expected."
   ]
  },
  {
   "cell_type": "markdown",
   "metadata": {},
   "source": [
    "## Removing non-english app"
   ]
  },
  {
   "cell_type": "code",
   "execution_count": 16,
   "metadata": {},
   "outputs": [
    {
     "name": "stdout",
     "output_type": "stream",
     "text": [
      "True\n",
      "False\n",
      "False\n",
      "False\n"
     ]
    }
   ],
   "source": [
    "def eng_check(name):\n",
    "    # define function to find out non-english app\n",
    "    for cha in name:\n",
    "        if ord(cha) > 127:\n",
    "            return False\n",
    "    return True\n",
    "        \n",
    "print(eng_check('Instagram'))\n",
    "print(eng_check('爱奇艺PPS -《欢乐颂2》电视剧热播'))\n",
    "print(eng_check('Docs To Go™ Free Office Suite'))\n",
    "print(eng_check('Instachat 😜'))"
   ]
  },
  {
   "cell_type": "markdown",
   "metadata": {},
   "source": [
    "Non-English App are not our target, therefore *eng_check* function was built to find out the entries with non-english characters based on the using the ASCII standard. Each ASCII character has a corresponding number between 0 and 127 associated with it, and we can take advantage of that to build a function that checks an app name and tells us whether it contains non-ASCII characters.\n",
    "\n",
    "\n",
    "The function seems to work fine, but some English app names use emojis or other symbols (™, — (em dash), – (en dash), etc.) that fall outside of the ASCII range. Because of this, we'll remove useful apps if we use the function in its current form."
   ]
  },
  {
   "cell_type": "code",
   "execution_count": 17,
   "metadata": {},
   "outputs": [
    {
     "name": "stdout",
     "output_type": "stream",
     "text": [
      "True\n",
      "True\n"
     ]
    }
   ],
   "source": [
    "def eng_check(name):\n",
    "    # improve non english function\n",
    "    non_eng = 0\n",
    "    for cha in name:\n",
    "        if ord(cha) > 127:\n",
    "            non_eng += 1\n",
    "    if non_eng > 3:\n",
    "        return False\n",
    "    else:\n",
    "        return True\n",
    "    \n",
    "print(eng_check('Docs To Go™ Free Office Suite'))\n",
    "print(eng_check('Instachat 😜'))"
   ]
  },
  {
   "cell_type": "markdown",
   "metadata": {},
   "source": [
    "The function has been improved to identify entries with more than three non-english characters."
   ]
  },
  {
   "cell_type": "markdown",
   "metadata": {},
   "source": [
    "**Google Play Store:**"
   ]
  },
  {
   "cell_type": "code",
   "execution_count": 18,
   "metadata": {},
   "outputs": [
    {
     "name": "stdout",
     "output_type": "stream",
     "text": [
      "['Photo Editor & Candy Camera & Grid & ScrapBook', 'ART_AND_DESIGN', '4.1', '159', '19M', '10,000+', 'Free', '0', 'Everyone', 'Art & Design', 'January 7, 2018', '1.0.0', '4.0.3 and up']\n",
      "\n",
      "\n",
      "['U Launcher Lite – FREE Live Cool Themes, Hide Apps', 'ART_AND_DESIGN', '4.7', '87510', '8.7M', '5,000,000+', 'Free', '0', 'Everyone', 'Art & Design', 'August 1, 2018', '1.2.4', '4.0.3 and up']\n",
      "\n",
      "\n",
      "Number of rows:  9614\n",
      "Number of columns:  13\n"
     ]
    }
   ],
   "source": [
    "# remove non english app\n",
    "an_clean_eng = []\n",
    "for app in android_clean:\n",
    "    if eng_check(app[0]):\n",
    "        an_clean_eng.append(app)\n",
    "        \n",
    "explore_data(an_clean_eng, 0, 2, True)"
   ]
  },
  {
   "cell_type": "markdown",
   "metadata": {},
   "source": [
    "After removing non-english app, there are 9614 entries in android dataset."
   ]
  },
  {
   "cell_type": "markdown",
   "metadata": {},
   "source": [
    "**App Store: **"
   ]
  },
  {
   "cell_type": "code",
   "execution_count": 19,
   "metadata": {},
   "outputs": [
    {
     "name": "stdout",
     "output_type": "stream",
     "text": [
      "['284882215', 'Facebook', '389879808', 'USD', '0.0', '2974676', '212', '3.5', '3.5', '95.0', '4+', 'Social Networking', '37', '1', '29', '1']\n",
      "\n",
      "\n",
      "['389801252', 'Instagram', '113954816', 'USD', '0.0', '2161558', '1289', '4.5', '4.0', '10.23', '12+', 'Photo & Video', '37', '0', '29', '1']\n",
      "\n",
      "\n",
      "Number of rows:  6181\n",
      "Number of columns:  16\n"
     ]
    }
   ],
   "source": [
    "# remove non english app\n",
    "ios_clean_eng = []\n",
    "for app in ios_clean:\n",
    "    if eng_check(app[1]):\n",
    "        ios_clean_eng.append(app)\n",
    "        \n",
    "explore_data(ios_clean_eng, 0, 2, True)"
   ]
  },
  {
   "cell_type": "markdown",
   "metadata": {
    "collapsed": true
   },
   "source": [
    "After removing non-english app, there are 6181 entries in IOS dataset."
   ]
  },
  {
   "cell_type": "markdown",
   "metadata": {},
   "source": [
    "# Isolating free apps "
   ]
  },
  {
   "cell_type": "markdown",
   "metadata": {},
   "source": [
    "As mentioned in the introduction, we only build apps that are free to download and install, and our main source of revenue consists of in-app ads. Our data sets contain both free and non-free apps; we'll need to isolate only the free apps for our analysis."
   ]
  },
  {
   "cell_type": "markdown",
   "metadata": {},
   "source": [
    "**Google Play Store:**"
   ]
  },
  {
   "cell_type": "code",
   "execution_count": 20,
   "metadata": {},
   "outputs": [
    {
     "name": "stdout",
     "output_type": "stream",
     "text": [
      "['Photo Editor & Candy Camera & Grid & ScrapBook', 'ART_AND_DESIGN', '4.1', '159', '19M', '10,000+', 'Free', '0', 'Everyone', 'Art & Design', 'January 7, 2018', '1.0.0', '4.0.3 and up']\n",
      "\n",
      "\n",
      "['U Launcher Lite – FREE Live Cool Themes, Hide Apps', 'ART_AND_DESIGN', '4.7', '87510', '8.7M', '5,000,000+', 'Free', '0', 'Everyone', 'Art & Design', 'August 1, 2018', '1.2.4', '4.0.3 and up']\n",
      "\n",
      "\n",
      "Number of rows:  8863\n",
      "Number of columns:  13\n"
     ]
    }
   ],
   "source": [
    "# extract free app\n",
    "an_final = []\n",
    "for app in an_clean_eng:\n",
    "    if app[6] == 'Free':\n",
    "        an_final.append(app)\n",
    "        \n",
    "explore_data(an_final, 0, 2, True)"
   ]
  },
  {
   "cell_type": "markdown",
   "metadata": {},
   "source": [
    "After removing non-free app, there are 8863 entries in android dataset."
   ]
  },
  {
   "cell_type": "markdown",
   "metadata": {},
   "source": [
    "**App Store:**"
   ]
  },
  {
   "cell_type": "code",
   "execution_count": 21,
   "metadata": {},
   "outputs": [
    {
     "name": "stdout",
     "output_type": "stream",
     "text": [
      "['284882215', 'Facebook', '389879808', 'USD', '0.0', '2974676', '212', '3.5', '3.5', '95.0', '4+', 'Social Networking', '37', '1', '29', '1']\n",
      "\n",
      "\n",
      "['389801252', 'Instagram', '113954816', 'USD', '0.0', '2161558', '1289', '4.5', '4.0', '10.23', '12+', 'Photo & Video', '37', '0', '29', '1']\n",
      "\n",
      "\n",
      "Number of rows:  3220\n",
      "Number of columns:  16\n"
     ]
    }
   ],
   "source": [
    "# extract free app\n",
    "ios_final = []\n",
    "for app in ios_clean_eng:\n",
    "    if app[4] == '0.0':\n",
    "        ios_final.append(app)\n",
    "        \n",
    "explore_data(ios_final, 0, 2, True)"
   ]
  },
  {
   "cell_type": "markdown",
   "metadata": {},
   "source": [
    "After removing non-free app, there are 3220 entries in IOS dataset."
   ]
  },
  {
   "cell_type": "markdown",
   "metadata": {},
   "source": [
    "---"
   ]
  },
  {
   "cell_type": "markdown",
   "metadata": {
    "collapsed": true
   },
   "source": [
    "As we mentioned in the introduction, our aim is to determine the kinds of apps that are likely to attract more users because our revenue is highly influenced by the number of people using our apps.\n",
    "\n",
    "To minimize risks and overhead, our validation strategy for an app idea is comprised of three steps:\n",
    "\n",
    "Build a minimal Android version of the app, and add it to Google Play.\n",
    "If the app has a good response from users, we develop it further.\n",
    "If the app is profitable after six months, we build an iOS version of the app and add it to the App Store.\n",
    "Because our end goal is to add the app on both Google Play and the App Store, we need to find app profiles that are successful on both markets. For instance, a profile that works well for both markets might be a productivity app that makes use of gamification."
   ]
  },
  {
   "cell_type": "markdown",
   "metadata": {},
   "source": [
    "we will begin the analysis by getting a sense of what are the most common genres for each market."
   ]
  },
  {
   "cell_type": "code",
   "execution_count": 22,
   "metadata": {},
   "outputs": [],
   "source": [
    "def freq_table(dataset, index):\n",
    "    # define frequency table\n",
    "    table = {}\n",
    "    total = 0\n",
    "    for row in dataset:\n",
    "        total += 1\n",
    "        key = row[index]\n",
    "        if key in table:\n",
    "            table[key] += 1\n",
    "        else:\n",
    "            table[key] = 1\n",
    "    \n",
    "    table_percent = {}\n",
    "    for key in table: \n",
    "        table_percent[key] = (table[key]/total)*100\n",
    "    \n",
    "    return table_percent"
   ]
  },
  {
   "cell_type": "code",
   "execution_count": 23,
   "metadata": {},
   "outputs": [],
   "source": [
    "def display_table(dataset, index):\n",
    "    # define function to create frequency table\n",
    "    table = freq_table(dataset, index)\n",
    "    table_display = []\n",
    "    for key in table:\n",
    "        key_val_as_tuple = (table[key], key)\n",
    "        table_display.append(key_val_as_tuple)\n",
    "\n",
    "    table_sorted = sorted(table_display, reverse = True)\n",
    "    for entry in table_sorted:\n",
    "        print(entry[1], ':', entry[0])"
   ]
  },
  {
   "cell_type": "markdown",
   "metadata": {},
   "source": [
    "**Google Play Store:**"
   ]
  },
  {
   "cell_type": "code",
   "execution_count": 24,
   "metadata": {},
   "outputs": [
    {
     "name": "stdout",
     "output_type": "stream",
     "text": [
      "By Category:\n",
      "FAMILY : 18.898792733837304\n",
      "GAME : 9.725826469592688\n",
      "TOOLS : 8.462146000225657\n",
      "BUSINESS : 4.592124562789123\n",
      "LIFESTYLE : 3.9038700214374367\n",
      "PRODUCTIVITY : 3.8925871601038025\n",
      "FINANCE : 3.7007785174320205\n",
      "MEDICAL : 3.5315355974275078\n",
      "SPORTS : 3.396141261423897\n",
      "PERSONALIZATION : 3.317161232088458\n",
      "COMMUNICATION : 3.2381812027530184\n",
      "HEALTH_AND_FITNESS : 3.0802211440821394\n",
      "PHOTOGRAPHY : 2.944826808078529\n",
      "NEWS_AND_MAGAZINES : 2.798149610741284\n",
      "SOCIAL : 2.6627552747376737\n",
      "TRAVEL_AND_LOCAL : 2.335552296062281\n",
      "SHOPPING : 2.245289405393208\n",
      "BOOKS_AND_REFERENCE : 2.1437436533904997\n",
      "DATING : 1.8616721200496444\n",
      "VIDEO_PLAYERS : 1.7939749520478394\n",
      "MAPS_AND_NAVIGATION : 1.399074805370642\n",
      "FOOD_AND_DRINK : 1.241114746699763\n",
      "EDUCATION : 1.1621347173643235\n",
      "ENTERTAINMENT : 0.9590432133589079\n",
      "LIBRARIES_AND_DEMO : 0.9364774906916393\n",
      "AUTO_AND_VEHICLES : 0.9251946293580051\n",
      "HOUSE_AND_HOME : 0.8236488773552973\n",
      "WEATHER : 0.8010831546880289\n",
      "EVENTS : 0.7108202640189552\n",
      "PARENTING : 0.6544059573507841\n",
      "ART_AND_DESIGN : 0.6431230960171499\n",
      "COMICS : 0.6205573733498815\n",
      "BEAUTY : 0.5979916506826132\n"
     ]
    }
   ],
   "source": [
    "# print frequenct table by category\n",
    "print('By Category:')\n",
    "display_table(an_final, 1)"
   ]
  },
  {
   "cell_type": "markdown",
   "metadata": {},
   "source": [
    "We can see that in Google Play Store, about 18.90% of the free English apps are in the Family catagory. Game-catagory apps are close to 9.73%, followed by Tools-catagory apps, which are close to 8.46%. Those are the three main catagories."
   ]
  },
  {
   "cell_type": "code",
   "execution_count": 25,
   "metadata": {},
   "outputs": [
    {
     "name": "stdout",
     "output_type": "stream",
     "text": [
      "By Genres:\n",
      "Tools : 8.450863138892023\n",
      "Entertainment : 6.070179397495204\n",
      "Education : 5.348076272142616\n",
      "Business : 4.592124562789123\n",
      "Productivity : 3.8925871601038025\n",
      "Lifestyle : 3.8925871601038025\n",
      "Finance : 3.7007785174320205\n",
      "Medical : 3.5315355974275078\n",
      "Sports : 3.463838429425702\n",
      "Personalization : 3.317161232088458\n",
      "Communication : 3.2381812027530184\n",
      "Action : 3.102786866749408\n",
      "Health & Fitness : 3.0802211440821394\n",
      "Photography : 2.944826808078529\n",
      "News & Magazines : 2.798149610741284\n",
      "Social : 2.6627552747376737\n",
      "Travel & Local : 2.324269434728647\n",
      "Shopping : 2.245289405393208\n",
      "Books & Reference : 2.1437436533904997\n",
      "Simulation : 2.042197901387792\n",
      "Dating : 1.8616721200496444\n",
      "Arcade : 1.8503892587160102\n",
      "Video Players & Editors : 1.771409229380571\n",
      "Casual : 1.7601263680469368\n",
      "Maps & Navigation : 1.399074805370642\n",
      "Food & Drink : 1.241114746699763\n",
      "Puzzle : 1.128286133363421\n",
      "Racing : 0.9928917973598104\n",
      "Role Playing : 0.9364774906916393\n",
      "Libraries & Demo : 0.9364774906916393\n",
      "Auto & Vehicles : 0.9251946293580051\n",
      "Strategy : 0.9026289066907368\n",
      "House & Home : 0.8236488773552973\n",
      "Weather : 0.8010831546880289\n",
      "Events : 0.7108202640189552\n",
      "Adventure : 0.6769716800180525\n",
      "Comics : 0.6092745120162473\n",
      "Beauty : 0.5979916506826132\n",
      "Art & Design : 0.5979916506826132\n",
      "Parenting : 0.4964458986799052\n",
      "Card : 0.4513144533453684\n",
      "Casino : 0.42874873067809993\n",
      "Trivia : 0.4174658693444658\n",
      "Educational;Education : 0.3949001466771973\n",
      "Board : 0.38361728534356315\n",
      "Educational : 0.37233442400992894\n",
      "Education;Education : 0.33848584000902626\n",
      "Word : 0.25950581067358686\n",
      "Casual;Pretend Play : 0.2369400880063184\n",
      "Music : 0.20309150400541578\n",
      "Racing;Action & Adventure : 0.16924292000451313\n",
      "Puzzle;Brain Games : 0.16924292000451313\n",
      "Entertainment;Music & Video : 0.16924292000451313\n",
      "Casual;Brain Games : 0.1353943360036105\n",
      "Casual;Action & Adventure : 0.1353943360036105\n",
      "Arcade;Action & Adventure : 0.1241114746699763\n",
      "Action;Action & Adventure : 0.10154575200270789\n",
      "Educational;Pretend Play : 0.09026289066907367\n",
      "Simulation;Action & Adventure : 0.07898002933543948\n",
      "Parenting;Education : 0.07898002933543948\n",
      "Entertainment;Brain Games : 0.07898002933543948\n",
      "Board;Brain Games : 0.07898002933543948\n",
      "Parenting;Music & Video : 0.06769716800180525\n",
      "Educational;Brain Games : 0.06769716800180525\n",
      "Casual;Creativity : 0.06769716800180525\n",
      "Art & Design;Creativity : 0.06769716800180525\n",
      "Education;Pretend Play : 0.05641430666817105\n",
      "Role Playing;Pretend Play : 0.045131445334536835\n",
      "Education;Creativity : 0.045131445334536835\n",
      "Role Playing;Action & Adventure : 0.033848584000902626\n",
      "Puzzle;Action & Adventure : 0.033848584000902626\n",
      "Entertainment;Creativity : 0.033848584000902626\n",
      "Entertainment;Action & Adventure : 0.033848584000902626\n",
      "Educational;Creativity : 0.033848584000902626\n",
      "Educational;Action & Adventure : 0.033848584000902626\n",
      "Education;Music & Video : 0.033848584000902626\n",
      "Education;Brain Games : 0.033848584000902626\n",
      "Education;Action & Adventure : 0.033848584000902626\n",
      "Adventure;Action & Adventure : 0.033848584000902626\n",
      "Video Players & Editors;Music & Video : 0.022565722667268417\n",
      "Sports;Action & Adventure : 0.022565722667268417\n",
      "Simulation;Pretend Play : 0.022565722667268417\n",
      "Puzzle;Creativity : 0.022565722667268417\n",
      "Music;Music & Video : 0.022565722667268417\n",
      "Entertainment;Pretend Play : 0.022565722667268417\n",
      "Casual;Education : 0.022565722667268417\n",
      "Board;Action & Adventure : 0.022565722667268417\n",
      "Video Players & Editors;Creativity : 0.011282861333634209\n",
      "Trivia;Education : 0.011282861333634209\n",
      "Travel & Local;Action & Adventure : 0.011282861333634209\n",
      "Tools;Education : 0.011282861333634209\n",
      "Strategy;Education : 0.011282861333634209\n",
      "Strategy;Creativity : 0.011282861333634209\n",
      "Strategy;Action & Adventure : 0.011282861333634209\n",
      "Simulation;Education : 0.011282861333634209\n",
      "Role Playing;Brain Games : 0.011282861333634209\n",
      "Racing;Pretend Play : 0.011282861333634209\n",
      "Puzzle;Education : 0.011282861333634209\n",
      "Parenting;Brain Games : 0.011282861333634209\n",
      "Music & Audio;Music & Video : 0.011282861333634209\n",
      "Lifestyle;Pretend Play : 0.011282861333634209\n",
      "Lifestyle;Education : 0.011282861333634209\n",
      "Health & Fitness;Education : 0.011282861333634209\n",
      "Health & Fitness;Action & Adventure : 0.011282861333634209\n",
      "Entertainment;Education : 0.011282861333634209\n",
      "Communication;Creativity : 0.011282861333634209\n",
      "Comics;Creativity : 0.011282861333634209\n",
      "Casual;Music & Video : 0.011282861333634209\n",
      "Card;Action & Adventure : 0.011282861333634209\n",
      "Books & Reference;Education : 0.011282861333634209\n",
      "Art & Design;Pretend Play : 0.011282861333634209\n",
      "Art & Design;Action & Adventure : 0.011282861333634209\n",
      "Arcade;Pretend Play : 0.011282861333634209\n",
      "Adventure;Education : 0.011282861333634209\n"
     ]
    }
   ],
   "source": [
    "# print frequency table by genres\n",
    "print('By Genres:')\n",
    "display_table(an_final, 9)"
   ]
  },
  {
   "cell_type": "markdown",
   "metadata": {},
   "source": [
    "If we sort the data by Genres, we can see that 8.45% of the free English apps belong to Tools, followed by Entertainment app, which is 6.07% and Education apps, which is 5.35%"
   ]
  },
  {
   "cell_type": "markdown",
   "metadata": {},
   "source": [
    "**App Store:**"
   ]
  },
  {
   "cell_type": "code",
   "execution_count": 27,
   "metadata": {},
   "outputs": [
    {
     "name": "stdout",
     "output_type": "stream",
     "text": [
      "By prime_genre:\n",
      "Games : 58.13664596273293\n",
      "Entertainment : 7.888198757763975\n",
      "Photo & Video : 4.968944099378882\n",
      "Education : 3.6645962732919255\n",
      "Social Networking : 3.291925465838509\n",
      "Shopping : 2.608695652173913\n",
      "Utilities : 2.515527950310559\n",
      "Sports : 2.142857142857143\n",
      "Music : 2.049689440993789\n",
      "Health & Fitness : 2.018633540372671\n",
      "Productivity : 1.7391304347826086\n",
      "Lifestyle : 1.5838509316770186\n",
      "News : 1.3354037267080745\n",
      "Travel : 1.2422360248447204\n",
      "Finance : 1.1180124223602486\n",
      "Weather : 0.8695652173913043\n",
      "Food & Drink : 0.8074534161490683\n",
      "Reference : 0.5590062111801243\n",
      "Business : 0.5279503105590062\n",
      "Book : 0.43478260869565216\n",
      "Navigation : 0.18633540372670807\n",
      "Medical : 0.18633540372670807\n",
      "Catalogs : 0.12422360248447205\n"
     ]
    }
   ],
   "source": [
    "# print frequency table by prime genre\n",
    "print('By prime_genre:')\n",
    "display_table(ios_final, 11)"
   ]
  },
  {
   "cell_type": "markdown",
   "metadata": {},
   "source": [
    "For the IOS Store, more than half(58.14%) of the free English apps are games. Entertainment apps are close to 8%, followed by photo and video apps, which are close to 5%. \n",
    "\n",
    "The general impression is that App Store (at least the part containing free English apps) is dominated by apps that are designed for fun (games, entertainment, photo and video, social networking, sports, music, etc.), while apps with practical purposes (education, shopping, utilities, productivity, lifestyle, etc.) are more rare. However, the fact that fun apps are the most numerous doesn't also imply that they also have the greatest number of users — the demand might not be the same as the offer."
   ]
  },
  {
   "cell_type": "markdown",
   "metadata": {},
   "source": [
    "Up to this point, we found that the App Store is dominated by apps designed for fun, while Google Play shows a more balanced landscape of both practical and for-fun apps. Now we'd like to get an idea about the kind of apps that have most users."
   ]
  },
  {
   "cell_type": "markdown",
   "metadata": {},
   "source": [
    "# Most Popular Apps by Genre on the App Store"
   ]
  },
  {
   "cell_type": "markdown",
   "metadata": {},
   "source": [
    "One way to find out what genres are the most popular (have the most users) is to calculate the average number of installs for each app genre. For the Google Play data set, we can find this information in the Installs column, but for the App Store data set this information is missing. As a workaround, we'll take the total number of user ratings as a proxy, which we can find in the rating_count_tot app."
   ]
  },
  {
   "cell_type": "code",
   "execution_count": 28,
   "metadata": {
    "scrolled": true
   },
   "outputs": [
    {
     "name": "stdout",
     "output_type": "stream",
     "text": [
      "Navigation : 86090.33333333333\n",
      "Reference : 74942.11111111111\n",
      "Social Networking : 71548.34905660378\n",
      "Music : 57326.530303030304\n",
      "Weather : 52279.892857142855\n",
      "Book : 39758.5\n",
      "Food & Drink : 33333.92307692308\n",
      "Finance : 31467.944444444445\n",
      "Photo & Video : 28441.54375\n",
      "Travel : 28243.8\n",
      "Shopping : 26919.690476190477\n",
      "Health & Fitness : 23298.015384615384\n",
      "Sports : 23008.898550724636\n",
      "Games : 22812.92467948718\n",
      "News : 21248.023255813954\n",
      "Productivity : 21028.410714285714\n",
      "Utilities : 18684.456790123455\n",
      "Lifestyle : 16485.764705882353\n",
      "Entertainment : 14029.830708661417\n",
      "Business : 7491.117647058823\n",
      "Education : 7003.983050847458\n",
      "Catalogs : 4004.0\n",
      "Medical : 612.0\n"
     ]
    }
   ],
   "source": [
    "# create frequency table with number of review\n",
    "table = {}\n",
    "for genre in freq_table(ios_final, 11):\n",
    "    total = 0\n",
    "    len_genre = 0\n",
    "    for app in ios_final:\n",
    "        genre_app = app[11]\n",
    "        if genre_app == genre:\n",
    "            total += float(app[5])\n",
    "            len_genre += 1\n",
    "    average_num_rating = total/len_genre\n",
    "    table[genre] = average_num_rating\n",
    "\n",
    "table_display = []\n",
    "for genre in table:\n",
    "    gen_val_as_tuple = (table[genre], genre)\n",
    "    table_display.append(gen_val_as_tuple)\n",
    "\n",
    "table_sorted = sorted(table_display, reverse = True)\n",
    "for entry in table_sorted:\n",
    "    print(entry[1], ':', entry[0])"
   ]
  },
  {
   "cell_type": "markdown",
   "metadata": {},
   "source": [
    "On average, navigation apps have the highest number of user reviews (86090), but this figure is heavily influenced by Waze and Google Maps, which have close to half a million user reviews together:"
   ]
  },
  {
   "cell_type": "code",
   "execution_count": 29,
   "metadata": {},
   "outputs": [
    {
     "name": "stdout",
     "output_type": "stream",
     "text": [
      "Waze - GPS Navigation, Maps & Real-time Traffic : 345046\n",
      "Google Maps - Navigation & Transit : 154911\n",
      "Geocaching® : 12811\n",
      "CoPilot GPS – Car Navigation & Offline Maps : 3582\n",
      "ImmobilienScout24: Real Estate Search in Germany : 187\n",
      "Railway Route Search : 5\n"
     ]
    }
   ],
   "source": [
    "# explore navigation apps\n",
    "for app in ios_final:\n",
    "    if app[11] == 'Navigation':\n",
    "        print(app[1],\":\",app[5])"
   ]
  },
  {
   "cell_type": "markdown",
   "metadata": {
    "collapsed": true
   },
   "source": [
    "The same pattern applies to social networking apps, where the average number is heavily influenced by a few giants like Facebook, Pinterest, Skype, etc. Same applies to music apps, where a few big players like Pandora, Spotify, and Shazam heavily influence the average number.\n",
    "\n",
    "Our aim is to find popular genres, but navigation, social networking or music apps might seem more popular than they really are. The average number of ratings seem to be skewed by very few apps which have hundreds of thousands of user ratings, while the other apps may struggle to get past the 10,000 threshold. We could get a better picture by removing these extremely popular apps for each genre and then rework the averages, but we'll leave this level of detail for later."
   ]
  },
  {
   "cell_type": "code",
   "execution_count": 30,
   "metadata": {},
   "outputs": [
    {
     "name": "stdout",
     "output_type": "stream",
     "text": [
      "The Weather Channel: Forecast, Radar & Alerts : 495626\n",
      "The Weather Channel App for iPad – best local forecast, radar map, and storm tracking : 208648\n",
      "WeatherBug - Local Weather, Radar, Maps, Alerts : 188583\n",
      "MyRadar NOAA Weather Radar Forecast : 150158\n",
      "AccuWeather - Weather for Life : 144214\n",
      "Yahoo Weather : 112603\n",
      "Weather Underground: Custom Forecast & Local Radar : 49192\n",
      "NOAA Weather Radar - Weather Forecast & HD Radar : 45696\n",
      "Weather Live Free - Weather Forecast & Alerts : 35702\n",
      "Storm Radar : 22792\n",
      "QuakeFeed Earthquake Map, Alerts, and News : 6081\n",
      "Moji Weather - Free Weather Forecast : 2333\n",
      "Hurricane by American Red Cross : 1158\n",
      "Forecast Bar : 375\n",
      "Hurricane Tracker WESH 2 Orlando, Central Florida : 203\n",
      "FEMA : 128\n",
      "iWeather - World weather forecast : 80\n",
      "Weather - Radar - Storm with Morecast App : 78\n",
      "Yurekuru Call : 53\n",
      "Weather & Radar : 37\n",
      "WRAL Weather Alert : 25\n",
      "Météo-France : 24\n",
      "JaxReady : 22\n",
      "Freddy the Frogcaster's Weather Station : 14\n",
      "Almanac Long-Range Weather Forecast : 12\n",
      "TodayAir : 0\n",
      "wetter.com : 0\n",
      "WarnWetter : 0\n"
     ]
    }
   ],
   "source": [
    "# exlpore weather apps\n",
    "for app in ios_final:\n",
    "    if app[11] == 'Weather':\n",
    "        print(app[1],\":\",app[5])"
   ]
  },
  {
   "cell_type": "markdown",
   "metadata": {},
   "source": [
    "The Weather app shows prtential, no domination apps in the market so far. But to provide reliable live weather data may require us to connect our apps to non-free APIs. This expense needs to be covered with other income, like Ads. "
   ]
  },
  {
   "cell_type": "markdown",
   "metadata": {},
   "source": [
    "# Most Popular Apps by Genre on the Google Play Store"
   ]
  },
  {
   "cell_type": "markdown",
   "metadata": {},
   "source": [
    "For the Google Play market, we actually have data about the number of installs, so we should be able to get a clearer picture about genre popularity. However, the install numbers don't seem precise enough — we can see that most values are open-ended (100+, 1,000+, 5,000+, etc.). \n",
    "One problem with this data is that is not precise, but we're going to leave the numbers as they are, which means that we'll consider that an app with 100,000+ installs has 100,000 installs, and an app with 1,000,000+ installs has 1,000,000 installs, and so on."
   ]
  },
  {
   "cell_type": "code",
   "execution_count": 31,
   "metadata": {},
   "outputs": [
    {
     "name": "stdout",
     "output_type": "stream",
     "text": [
      "COMMUNICATION : 38456119.167247385\n",
      "VIDEO_PLAYERS : 24727872.452830188\n",
      "SOCIAL : 23253652.127118643\n",
      "PHOTOGRAPHY : 17840110.40229885\n",
      "PRODUCTIVITY : 16787331.344927534\n",
      "GAME : 15588015.603248259\n",
      "TRAVEL_AND_LOCAL : 13984077.710144928\n",
      "ENTERTAINMENT : 11640705.88235294\n",
      "TOOLS : 10801391.298666667\n",
      "NEWS_AND_MAGAZINES : 9549178.467741935\n",
      "BOOKS_AND_REFERENCE : 8767811.894736841\n",
      "SHOPPING : 7036877.311557789\n",
      "PERSONALIZATION : 5201482.6122448975\n",
      "WEATHER : 5074486.197183099\n",
      "HEALTH_AND_FITNESS : 4188821.9853479853\n",
      "MAPS_AND_NAVIGATION : 4056941.7741935486\n",
      "FAMILY : 3697848.1731343283\n",
      "SPORTS : 3638640.1428571427\n",
      "ART_AND_DESIGN : 1986335.0877192982\n",
      "FOOD_AND_DRINK : 1924897.7363636363\n",
      "EDUCATION : 1833495.145631068\n",
      "BUSINESS : 1712290.1474201474\n",
      "LIFESTYLE : 1437816.2687861272\n",
      "FINANCE : 1387692.475609756\n",
      "HOUSE_AND_HOME : 1331540.5616438356\n",
      "DATING : 854028.8303030303\n",
      "COMICS : 817657.2727272727\n",
      "AUTO_AND_VEHICLES : 647317.8170731707\n",
      "LIBRARIES_AND_DEMO : 638503.734939759\n",
      "PARENTING : 542603.6206896552\n",
      "BEAUTY : 513151.88679245283\n",
      "EVENTS : 253542.22222222222\n",
      "MEDICAL : 120550.61980830671\n"
     ]
    }
   ],
   "source": [
    "# create frequency table for installation\n",
    "table = {}\n",
    "for category in freq_table(an_final, 1):\n",
    "    total = 0\n",
    "    len_category = 0\n",
    "    for app in an_final:\n",
    "        category_app = app[1]\n",
    "        if category_app == category:\n",
    "            installs = app[5]\n",
    "            installs = installs.replace('+','')\n",
    "            installs = installs.replace(',','')\n",
    "            total += float(installs)\n",
    "            len_category += 1\n",
    "    average_install = total/len_category\n",
    "    table[category] = average_install\n",
    "\n",
    "table_display = []\n",
    "for category in table:\n",
    "    cat_val_as_tuple = (table[category], category)\n",
    "    table_display.append(cat_val_as_tuple)\n",
    "\n",
    "table_sorted = sorted(table_display, reverse = True)\n",
    "for entry in table_sorted:\n",
    "    print(entry[1], ':', entry[0])"
   ]
  },
  {
   "cell_type": "markdown",
   "metadata": {},
   "source": [
    "On average, communication apps have the most installs: 38,456,119. This number is heavily skewed up by a few apps that have over one billion installs (WhatsApp, Facebook Messenger, Skype, Google Chrome, Gmail, and Hangouts), and a few others with over 100 and 500 million installs:"
   ]
  },
  {
   "cell_type": "code",
   "execution_count": 32,
   "metadata": {},
   "outputs": [
    {
     "name": "stdout",
     "output_type": "stream",
     "text": [
      "WhatsApp Messenger : 1,000,000,000+\n",
      "imo beta free calls and text : 100,000,000+\n",
      "Android Messages : 100,000,000+\n",
      "Google Duo - High Quality Video Calls : 500,000,000+\n",
      "Messenger – Text and Video Chat for Free : 1,000,000,000+\n",
      "imo free video calls and chat : 500,000,000+\n",
      "Skype - free IM & video calls : 1,000,000,000+\n",
      "Who : 100,000,000+\n",
      "GO SMS Pro - Messenger, Free Themes, Emoji : 100,000,000+\n",
      "LINE: Free Calls & Messages : 500,000,000+\n",
      "Google Chrome: Fast & Secure : 1,000,000,000+\n",
      "Firefox Browser fast & private : 100,000,000+\n",
      "UC Browser - Fast Download Private & Secure : 500,000,000+\n",
      "Gmail : 1,000,000,000+\n",
      "Hangouts : 1,000,000,000+\n",
      "Messenger Lite: Free Calls & Messages : 100,000,000+\n",
      "Kik : 100,000,000+\n",
      "KakaoTalk: Free Calls & Text : 100,000,000+\n",
      "Opera Mini - fast web browser : 100,000,000+\n",
      "Opera Browser: Fast and Secure : 100,000,000+\n",
      "Telegram : 100,000,000+\n",
      "Truecaller: Caller ID, SMS spam blocking & Dialer : 100,000,000+\n",
      "UC Browser Mini -Tiny Fast Private & Secure : 100,000,000+\n",
      "Viber Messenger : 500,000,000+\n",
      "WeChat : 100,000,000+\n",
      "Yahoo Mail – Stay Organized : 100,000,000+\n",
      "BBM - Free Calls & Messages : 100,000,000+\n"
     ]
    }
   ],
   "source": [
    "# explore communication apps\n",
    "for app in an_final:\n",
    "    if app[1] == 'COMMUNICATION' and (app[5] == '1,000,000,000+'\n",
    "                                      or app[5] == '500,000,000+'\n",
    "                                      or app[5] == '100,000,000+'):\n",
    "        print(app[0], ':', app[5])"
   ]
  },
  {
   "cell_type": "markdown",
   "metadata": {},
   "source": [
    "We see the same pattern for the video players category, which is the runner-up with 24,727,872 installs. The market is dominated by apps like Youtube, Google Play Movies & TV, or MX Player. The pattern is repeated for social apps (where we have giants like Facebook, Instagram, Google+, etc.), photography apps (Google Photos and other popular photo editors), productivity apps (Microsoft Word, Dropbox, Google Calendar, Evernote, etc.) Books and Reference (Google Play Books, Bible, Amazon Kindle, etc.) or Shopping (letgo, Lazada, OLX, The birth, etc.)\n",
    "\n",
    "These niches seem to be dominated by a few giants who are hard to compete against."
   ]
  },
  {
   "cell_type": "code",
   "execution_count": 33,
   "metadata": {},
   "outputs": [
    {
     "name": "stdout",
     "output_type": "stream",
     "text": [
      "Nova Launcher : 50,000,000+\n",
      "Funny Ringtones : 1,000,000+\n",
      "ZEDGE™ Ringtones & Wallpapers : 100,000,000+\n",
      "XOS - Launcher,Theme,Wallpaper : 5,000,000+\n",
      "3D Live Neon Weed Launcher : 100,000+\n",
      "Evie Launcher : 5,000,000+\n",
      "Golden Launcher : 5,000,000+\n",
      "Launcher : 1,000,000+\n",
      "CM Launcher 3D - Theme, Wallpapers, Efficient : 100,000,000+\n",
      "4K Wallpapers and Ultra HD Backgrounds : 500,000+\n",
      "OnePlus Launcher : 1,000,000+\n",
      "Birds Sounds Ringtones & Wallpapers : 1,000,000+\n",
      "Funny Alarm Clock Ringtones : 1,000,000+\n",
      "ZenUI Launcher : 50,000,000+\n",
      "Color Call - Caller Screen, LED Flash : 1,000,000+\n",
      "New Launcher 2018 : 10,000,000+\n",
      "Diamond Zipper Lock Screen : 10,000,000+\n",
      "Emoji Keyboard - Cute Emoji,GIF, Sticker, Emoticon : 10,000,000+\n",
      "3D Blue Glass Water Keyboard Theme : 10,000,000+\n",
      "Backgrounds (HD Wallpapers) : 10,000,000+\n",
      "New 2018 Keyboard : 10,000,000+\n",
      "APUS Launcher - Theme, Wallpaper, Hide Apps : 100,000,000+\n",
      "ZenUI Themes – Stylish Themes : 10,000,000+\n",
      "Keyboard - wallpapers , photos : 10,000,000+\n",
      "Lovely Cute Pink Kitty Cat Keyboard Theme : 500,000+\n",
      "Microsoft Launcher : 10,000,000+\n",
      "Goku Wallpaper Art : 1,000,000+\n",
      "Door Lock Screen : 1,000,000+\n",
      "Yandex Browser with Protect : 50,000,000+\n",
      "Cute wallpapers & kawaii backgrounds images : 1,000,000+\n",
      "ASUS Cover for ZenFone 2 : 10,000,000+\n",
      "Hola Launcher- Theme,Wallpaper : 100,000,000+\n",
      "OnePlus Icon Pack - Square : 500,000+\n",
      "Live 3D Neon Blue Love Heart Keyboard Theme : 1,000,000+\n",
      "Pink Diamond Princess Keyboard Theme : 1,000,000+\n",
      "Wallpapers HD, 4K Backgrounds : 10,000,000+\n",
      "Photo Lock App - Hide Pictures & Videos : 5,000,000+\n",
      "Romantic Love Photo Frames : 5,000,000+\n",
      "Colorful Glitter Neon Butterfly Keyboard Theme : 500,000+\n",
      "OnePlus Icon Pack : 500,000+\n",
      "Water Garden Live Wallpaper : 5,000,000+\n",
      "Water Droplets Keyboard Theme : 100,000+\n",
      "FUN Keyboard – Emoji Keyboard, Sticker,Theme & GIF : 500,000+\n",
      "Freeme Launcher—Stylish Theme : 100,000+\n",
      "Ringtones & Wallpapers for Me : 10,000,000+\n",
      "Ringtone Maker : 50,000,000+\n",
      "Retro Clock Widget : 5,000,000+\n",
      "Zooper Widget : 1,000,000+\n",
      "Beautiful Widgets Free : 1,000,000+\n",
      "DashClock Widget : 1,000,000+\n",
      "Fancy Widgets : 5,000,000+\n",
      "icon wallpaper dressup💞CocoPPa : 10,000,000+\n",
      "The real aquarium - HD : 5,000,000+\n",
      "Best Wallpapers QHD : 10,000,000+\n",
      "Dog Licks Screen Wallpaper : 5,000,000+\n",
      "Waterfall Live Wallpaper : 10,000,000+\n",
      "Galaxy Live Wallpaper : 5,000,000+\n",
      "Northern Lights FREE (Aurora) : 1,000,000+\n",
      "Flowers Live Wallpaper : 10,000,000+\n",
      "Petals 3D live wallpaper : 10,000,000+\n",
      "Galactic Core Free Wallpaper : 10,000,000+\n",
      "LINE Launcher : 10,000,000+\n",
      "Asteroids 3D live wallpaper : 10,000,000+\n",
      "Sun Rise Free Live Wallpaper : 10,000,000+\n",
      "Wallpapers HD : 10,000,000+\n",
      "Tiger Live Wallpaper : 5,000,000+\n",
      "Backgrounds HD (Wallpapers) : 100,000,000+\n",
      "Pink Roses Live Wallpaper : 1,000,000+\n",
      "Butterfly Live Wallpaper : 5,000,000+\n",
      "Koi Free Live Wallpaper : 50,000,000+\n",
      "Wallpaper : 1,000,000+\n",
      "Wolves Live Wallpaper : 1,000,000+\n",
      "Horses Live Wallpaper : 1,000,000+\n",
      "Tropical Beach Live Wallpaper : 1,000,000+\n",
      "Glowing Flowers Live Wallpaper : 5,000,000+\n",
      "Dolphins Live Wallpaper : 1,000,000+\n",
      "Smart Launcher 5 : 10,000,000+\n",
      "Buzz Launcher-Smart&Free Theme : 10,000,000+\n",
      "Yandex.Shell (Launcher+Dialer) : 1,000,000+\n",
      "ADW Launcher 2 : 10,000,000+\n",
      "iKeyboard - emoji, emoticons : 10,000,000+\n",
      "Simple Neon Blue Future Tech Keyboard Theme : 10,000,000+\n",
      "ai.type Free Emoji Keyboard : 10,000,000+\n",
      "GO Keyboard - Emoticon keyboard, Free Theme, GIF : 100,000,000+\n",
      "TouchPal Purple Butterfly Theme : 1,000,000+\n",
      "2018Emoji Keyboard 😂 Emoticons Lite -sticker&gif : 10,000,000+\n",
      "Lavender Emoji Keyboard Theme : 1,000,000+\n",
      "CARDI B WALLPAPERS : 1,000+\n",
      "Cardi B HD Wallpapers Lock Screen : 500+\n",
      "C Launcher: Themes, Wallpapers, DIY, Smart, Clean : 10,000,000+\n",
      "Z Ringtones PREMIUM 2018 : 500,000+\n",
      "H-Kakashi - theme Xperia™ : 50,000+\n",
      "Alphabet \"H\" Passcode Lock Screen : 100+\n",
      "J. Cole Rapper Wallpaper HD : 1,000+\n",
      "Keyboard for Sony Xperia J : 50,000+\n",
      "J Dark Ice Substratum Theme : 10,000+\n",
      "BTS J-Hope Wallpaper KPOP Fans HD : 10,000+\n",
      "BTS j-hope LINE Launcher theme : 10,000+\n",
      "BTS J-Hope Wallpaper HD for KPOP Fans : 500+\n",
      "[Substratum] K-Manager for K-Klock : 1,000+\n",
      "Wallpapers Bus Scania Irizar K : 10,000+\n",
      "Messenger L SMS, MMS : 500,000+\n",
      "Lollipop Keyboard L Pro : 500,000+\n",
      "Clock L : 100,000+\n",
      "Dialer theme Droid L : 100,000+\n",
      "M Launcher -Marshmallow 6.0 : 1,000,000+\n",
      "M Theme - Dark Green Icon Pack : 10,000+\n",
      "N Launcher: Nougat Theme : 10,000+\n",
      "N Launcher - Nougat 7.0 : 1,000,000+\n",
      "OO Launcher for Android O 8.0 Oreo™ Launcher : 1,000,000+\n",
      "P Icon Pack for Pixel : 1,000+\n",
      "P Launcher for Android™ 9.0 : 5,000+\n",
      "P Launcher Theme For Android™ 9.0 : 10,000+\n",
      "P Theme for Android™ P 9.0 Style Launcher : 50,000+\n",
      "Android P 9.0 : 500+\n",
      "Android P Wallpapers : 5,000+\n",
      "P XPERIA Theme™ | Design For SONY 🎨 : 10,000+\n",
      "Parallel Space - Multiple accounts & Two face : 100,000,000+\n",
      "Theme for New Android P : 1,000+\n",
      "Android P Stock Wallpapers : 1,000+\n",
      "G-Pix [Android P] Dark EMUI 8/5 THEME : 10,000+\n",
      "G-Pix [Android P] EMUI 8/5 THEME : 100,000+\n",
      "Android-P Mono Grey EMUI 8/5 Theme : 10,000+\n",
      "P XPERIA Theme™ | PURPLE - Design For SONY 🎨 : 500+\n",
      "Materialistic P Wallpapers : 1,000+\n",
      "P XPERIA Theme™ | INDIGO - Design For SONY 🎨 : 1,000+\n",
      "Pi Dark [substratum] : 10,000+\n",
      "Q Cat Live Wallpaper : 500,000+\n",
      "S Launcher for Galaxy TouchWiz : 1,000,000+\n",
      "I Love U Theme&Emoji Keyboard : 100,000+\n",
      "Waiting For U Launcher Theme : 500,000+\n",
      "BTS V LINE Launcher theme : 100,000+\n",
      "Mirk V Launcher Theme : 10,000+\n",
      "The grand theft V Wallpaper : 10,000+\n",
      "V BTS Wallpaper : 5,000+\n",
      "BTS V Kim Taehyung Wallpapers Kpop HD New : 5,000+\n",
      "B & W Filter for Photo Editor Pro : 5,000+\n",
      "Theme for Iphone X Plus : 10,000+\n",
      "Anime X Wallpaper : 1,000,000+\n",
      "NEW Theme for Phone X : 500,000+\n",
      "iLocker X - iOS11 Lockscreen with HD Wallpapers : 100,000+\n",
      "OS-X EMUI 4/5/8 THEME : 100,000+\n",
      "GO Launcher - 3D parallax Themes & HD Wallpapers : 100,000,000+\n",
      "Free Z Glass GO Keyboard Theme : 5,000,000+\n",
      "GO SMS Pro Z Glass Theme EX : 1,000,000+\n",
      "Theme eXp - Black Z Light : 1,000,000+\n",
      "Wave Z Live Wallpaper : 5,000,000+\n",
      "AcDisplay : 1,000,000+\n",
      "AH Kollection for KLWP : 50,000+\n",
      "ai robot keyboard : 100,000+\n",
      "AJ Wallpapers : 100+\n",
      "AK 47 Live Wallpaper : 50,000+\n",
      "Wallpapers AK 47 Guns : 5,000+\n",
      "AK 47 Assault Rifle Wallpapers : 100+\n",
      "AK 47 Guns Wallpaper : 50,000+\n",
      "Ak-47 Wallpapers 2018 : 500+\n",
      "Wallpapers New AK 47 Assault Rifle Guns Arms : 100+\n",
      "Weapon AK-74 Live Wallpaper : 1,000+\n",
      "Wallpapers AK 74M : 10+\n",
      "Wallpapers AK 12 : 10+\n",
      "AK 47 Lock Screen : 500+\n",
      "Jigsaw Puzzles AK 74M : 10+\n",
      "QuickShortcutMaker : 1,000,000+\n",
      "Nougat Android 7 Launcher : AW : 100,000+\n",
      "Axe Wallpaper : 100+\n",
      "Ay Yıldız Analog Saat : 1,000+\n",
      "Earth & Moon in HD Gyro 3D Parallax Live Wallpaper : 5,000,000+\n",
      "Be My Love Animated Keyboard : 50,000+\n",
      "Be like Me - Hay Nhu Toi : 1,000+\n",
      "Be you GO Launcher Theme : 100,000+\n",
      "One Launcher : 1,000,000+\n",
      "Keyboard Theme Dusk BK Purple : 10,000+\n",
      "BL Community Icon Pack : 10,000+\n",
      "BL Kennedy Theme : 10,000+\n",
      "Gold Wallpapers : 10,000+\n",
      "[Substratum] M5 Theme : 5,000+\n",
      "Launcher Oreo 8.1 : 500,000+\n",
      "Theme for Android 7.0 : 5,000+\n",
      "Cube BR LWP simple : 1,000+\n",
      "B. R. Ambedkar Jayanti SMS : 500+\n",
      "Next Launcher 3D Theme Stun-BW : 100,000+\n",
      "BW Wallpaper : 50+\n",
      "Skull Widget BW : 10+\n",
      "Kromium BW Theme for NEXT : 50,000+\n",
      "Keyboard Theme Gate Flat BW : 10,000+\n",
      "BL Essentials BW Icon Pack : 1,000+\n",
      "Dragon B.Z Wallpapers : 10+\n",
      "Dragon BZ Wallpapers HD : 1,000+\n",
      "CB Background - Free HD Wallpaper Images : 1,000,000+\n",
      "Football-CB GO Clock Theme : 1,000+\n",
      "Themes DAF CF 85 Trucks : 100+\n",
      "Themes DAF CF Trucks : 100+\n",
      "Wallpapers DAF CF Trucks : 100+\n",
      "Wallpapers DAF CF 85 Trucks : 10+\n",
      "Wallpapers Truck DAF CF : 1,000+\n",
      "Themes DAF CF 85 : 100+\n",
      "CI Screwed - Icon Pack : 1,000+\n",
      "CK Eorzea Timepiece : 100+\n",
      "CL 2NE1 Wallpaper KPOP Fans HD : 100+\n",
      "CL 2ne1 Wallpaper KPOP HD Best : 10+\n",
      "CL 2ne1 Wallpaper KPOP UHD Fans : 10+\n",
      "New CL 2ne1 Wallpaper KPOP live : 1+\n",
      "CL 2ne1 Wallpaper KPOP Fans All : 1+\n",
      "Wallpapers Mercedes Benz CL : 100+\n",
      "CM Launcher Default Theme : 100,000+\n",
      "Technology CM Locker Theme : 1,000,000+\n",
      "Melior NUI - Material CM Theme : 100,000+\n",
      "Speed Car CM Locker Theme : 500,000+\n",
      "Vintage Flower CM Locker Theme : 500,000+\n",
      "My Style CM 13 Theme : 10,000+\n",
      "City light CM Locker Theme : 500,000+\n",
      "CP Smart Check List : 10+\n",
      "CR Blue Icon Pack : 10,000+\n",
      "CR-Red : 10,000+\n",
      "CV Maker : 10,000+\n",
      "Theme For Techno Camon CX : 5,000+\n",
      "cx advance call blocker : 50+\n",
      "CY Konum : 100+\n",
      "Wallpapers CZ 75 85 : 10+\n",
      "Siren Ringtones : 5,000,000+\n",
      "Marvel and DC Wallpapers : 10,000+\n",
      "Love Fonts for FlipFont : 1,000,000+\n",
      "Wallpapers DH 4K : 1,000+\n",
      "HDWallpaper DK : 10+\n",
      "Daily DM : 1,000+\n",
      "Apex Launcher : 10,000,000+\n",
      "Dp For WhatsApp : 1,000,000+\n",
      "Profile pictures for WhatsApp : 500,000+\n",
      "DP & Status for Whatsapp 2018 : 100,000+\n",
      "Status For WhatsApp DP - pro : 10,000+\n",
      "Dulquer Salmaan HD Wallpapers : 100+\n",
      "Johor DT Lock Screen : 1,000+\n",
      "senior easy phone : 50,000+\n",
      "DU Launcher - Boost Your Phone : 1,000,000+\n",
      "Modern: DU Launcher Theme : 50,000+\n",
      "Night: DU Launcher Theme : 50,000+\n",
      "Rose Gold DW Watch Theme : 100+\n",
      "Black Classic DW Watch Theme : 100+\n",
      "Cnady Selfie : You Can Dy Snap Camera : 1,000+\n",
      "Cute Dolphin Keyboard : 10,000+\n",
      "Free E B Garamond Cool Font : 100,000+\n",
      "Eh Bee Wallpapers HD : 100+\n",
      "Smoke Effect Name Art Maker-Avatar Text Art Editor : 100,000+\n",
      "EM Launcher for EMUI : 500,000+\n",
      "ES Themes -- Classic Theme : 1,000,000+\n",
      "EU Flags Free Live Wallpaper : 100,000+\n",
      "Flag of European Union : 1,000+\n",
      "Flag Of European Union LWP : 1,000+\n",
      "European Union Flag LWP : 100+\n",
      "EU Flag Live Wallpaper : 1,000+\n",
      "GO SMS PRO EMOJI PLUGIN : 5,000,000+\n",
      "GO Launcher EX UI5.0 theme : 5,000,000+\n",
      "GLASS GO Launcher EX Theme : 1,000,000+\n",
      "CYANOGEN GO Launcher EX Theme : 5,000,000+\n",
      "Black Theme Go Launcher EX : 50,000+\n",
      "EZ Launcher : 1,000,000+\n",
      "Barcelona Wallpaper HD : 10,000+\n",
      "Theme for Galaxy Note FE Launcher | Live Wallpaper : 100+\n",
      "Theme for Galaxy Note FE : 100+\n",
      "Note FE Theme And Launcher For Samsung Galaxy : 1,000+\n",
      "Theme for Samsung Galaxy Note FE : 10,000+\n",
      "Theme For Galaxy Note FE : 100+\n",
      "HD Themes Volvo FH Trucks : 5,000+\n",
      "Themes Volvo FH 16 Trucks : 10,000+\n",
      "Top Themes Volvo FH Trucks : 1,000+\n",
      "Wallpapers Volvo FH 16 Trucks : 1,000+\n",
      "HD Wallpapers Volvo FH Trucks : 500+\n",
      "Themes Volvo FH Trucks : 1,000+\n",
      "Wallpapers Volvo FH Truck : 100+\n",
      "Xposed Wi-Fi-Pwd : 100,000+\n",
      "Sci-Fi Sounds and Ringtones : 10,000+\n",
      "Wallpapers Toyota FJ Cruiser : 10,000+\n",
      "New Wallpapers Toyota FJ Cruiser Theme : 100+\n",
      "HD Themes Toyota Cruiser 70 : 10,000+\n",
      "HD Themes Toyota Cruiser 60 : 100+\n",
      "HD Themes Toyota Cruiser70 : 100+\n",
      "HD Themes Toyota Cruiser 80 : 100+\n",
      "HD Themes Toyota Cruiser 50 : 50+\n",
      "HD Themes Toyota Cruiser 100VX : 100+\n",
      "HD Themes Toyota Cruiser 200 : 100+\n",
      "HD Themes Toyota Cruiser 40 : 100+\n",
      "Wallpapers FN Herstal FNP 9 : 1+\n",
      "Wallpapers FN SCAR H : 100+\n",
      "Wallpapers FN F2000 : 5+\n",
      "Wallpapers FN Five seven : 10+\n",
      "Wallpapers FN FAL Light Automatic Rifle : 10+\n",
      "Bullet - FN Theme : 5,000+\n",
      "Pint - FN Theme : 100+\n",
      "HAL-9000 - FN Theme : 10,000+\n",
      "Stylish Fonts : 10,000,000+\n",
      "Launcher Theme for LG K10 2018 : 100,000+\n",
      "FP Click sound changer : 10,000+\n",
      "FP Charging Daydream : 5,000+\n",
      "Fountain Live Wallpaper HD – Dubai Wallpaper 3D : 500+\n"
     ]
    }
   ],
   "source": [
    "# explore personalization apps\n",
    "for app in an_final:\n",
    "    if app[1] == 'PERSONALIZATION':\n",
    "        print(app[0], ':', app[5])"
   ]
  },
  {
   "cell_type": "markdown",
   "metadata": {},
   "source": [
    "The personalization catagory includes a variety of apps: Launcher, Ringtones, Wallpapers, etc. It seems there's still a small number of extremely popular apps that skew the average:"
   ]
  },
  {
   "cell_type": "code",
   "execution_count": 34,
   "metadata": {},
   "outputs": [
    {
     "name": "stdout",
     "output_type": "stream",
     "text": [
      "ZEDGE™ Ringtones & Wallpapers : 100,000,000+\n",
      "CM Launcher 3D - Theme, Wallpapers, Efficient : 100,000,000+\n",
      "APUS Launcher - Theme, Wallpaper, Hide Apps : 100,000,000+\n",
      "Hola Launcher- Theme,Wallpaper : 100,000,000+\n",
      "Backgrounds HD (Wallpapers) : 100,000,000+\n",
      "GO Keyboard - Emoticon keyboard, Free Theme, GIF : 100,000,000+\n",
      "Parallel Space - Multiple accounts & Two face : 100,000,000+\n",
      "GO Launcher - 3D parallax Themes & HD Wallpapers : 100,000,000+\n"
     ]
    }
   ],
   "source": [
    "# divide personalization apps into 3 categories\n",
    "for app in an_final:\n",
    "    if app[1] == 'PERSONALIZATION' and (app[5] == '1,000,000,000+'\n",
    "                                            or app[5] == '500,000,000+'\n",
    "                                            or app[5] == '100,000,000+'):\n",
    "        print(app[0], ':', app[5])"
   ]
  },
  {
   "cell_type": "markdown",
   "metadata": {},
   "source": [
    "However, it looks like there are only a few very popular apps, so this market still shows potential. Let's try to get some app ideas based on the kind of apps that are somewhere in the middle in terms of popularity (between 1,000,000 and 100,000,000 downloads):"
   ]
  },
  {
   "cell_type": "code",
   "execution_count": 35,
   "metadata": {},
   "outputs": [
    {
     "name": "stdout",
     "output_type": "stream",
     "text": [
      "Nova Launcher : 50,000,000+\n",
      "Funny Ringtones : 1,000,000+\n",
      "XOS - Launcher,Theme,Wallpaper : 5,000,000+\n",
      "Evie Launcher : 5,000,000+\n",
      "Golden Launcher : 5,000,000+\n",
      "Launcher : 1,000,000+\n",
      "OnePlus Launcher : 1,000,000+\n",
      "Birds Sounds Ringtones & Wallpapers : 1,000,000+\n",
      "Funny Alarm Clock Ringtones : 1,000,000+\n",
      "ZenUI Launcher : 50,000,000+\n",
      "Color Call - Caller Screen, LED Flash : 1,000,000+\n",
      "New Launcher 2018 : 10,000,000+\n",
      "Diamond Zipper Lock Screen : 10,000,000+\n",
      "Emoji Keyboard - Cute Emoji,GIF, Sticker, Emoticon : 10,000,000+\n",
      "3D Blue Glass Water Keyboard Theme : 10,000,000+\n",
      "Backgrounds (HD Wallpapers) : 10,000,000+\n",
      "New 2018 Keyboard : 10,000,000+\n",
      "ZenUI Themes – Stylish Themes : 10,000,000+\n",
      "Keyboard - wallpapers , photos : 10,000,000+\n",
      "Microsoft Launcher : 10,000,000+\n",
      "Goku Wallpaper Art : 1,000,000+\n",
      "Door Lock Screen : 1,000,000+\n",
      "Yandex Browser with Protect : 50,000,000+\n",
      "Cute wallpapers & kawaii backgrounds images : 1,000,000+\n",
      "ASUS Cover for ZenFone 2 : 10,000,000+\n",
      "Live 3D Neon Blue Love Heart Keyboard Theme : 1,000,000+\n",
      "Pink Diamond Princess Keyboard Theme : 1,000,000+\n",
      "Wallpapers HD, 4K Backgrounds : 10,000,000+\n",
      "Photo Lock App - Hide Pictures & Videos : 5,000,000+\n",
      "Romantic Love Photo Frames : 5,000,000+\n",
      "Water Garden Live Wallpaper : 5,000,000+\n",
      "Ringtones & Wallpapers for Me : 10,000,000+\n",
      "Ringtone Maker : 50,000,000+\n",
      "Retro Clock Widget : 5,000,000+\n",
      "Zooper Widget : 1,000,000+\n",
      "Beautiful Widgets Free : 1,000,000+\n",
      "DashClock Widget : 1,000,000+\n",
      "Fancy Widgets : 5,000,000+\n",
      "icon wallpaper dressup💞CocoPPa : 10,000,000+\n",
      "The real aquarium - HD : 5,000,000+\n",
      "Best Wallpapers QHD : 10,000,000+\n",
      "Dog Licks Screen Wallpaper : 5,000,000+\n",
      "Waterfall Live Wallpaper : 10,000,000+\n",
      "Galaxy Live Wallpaper : 5,000,000+\n",
      "Northern Lights FREE (Aurora) : 1,000,000+\n",
      "Flowers Live Wallpaper : 10,000,000+\n",
      "Petals 3D live wallpaper : 10,000,000+\n",
      "Galactic Core Free Wallpaper : 10,000,000+\n",
      "LINE Launcher : 10,000,000+\n",
      "Asteroids 3D live wallpaper : 10,000,000+\n",
      "Sun Rise Free Live Wallpaper : 10,000,000+\n",
      "Wallpapers HD : 10,000,000+\n",
      "Tiger Live Wallpaper : 5,000,000+\n",
      "Pink Roses Live Wallpaper : 1,000,000+\n",
      "Butterfly Live Wallpaper : 5,000,000+\n",
      "Koi Free Live Wallpaper : 50,000,000+\n",
      "Wallpaper : 1,000,000+\n",
      "Wolves Live Wallpaper : 1,000,000+\n",
      "Horses Live Wallpaper : 1,000,000+\n",
      "Tropical Beach Live Wallpaper : 1,000,000+\n",
      "Glowing Flowers Live Wallpaper : 5,000,000+\n",
      "Dolphins Live Wallpaper : 1,000,000+\n",
      "Smart Launcher 5 : 10,000,000+\n",
      "Buzz Launcher-Smart&Free Theme : 10,000,000+\n",
      "Yandex.Shell (Launcher+Dialer) : 1,000,000+\n",
      "ADW Launcher 2 : 10,000,000+\n",
      "iKeyboard - emoji, emoticons : 10,000,000+\n",
      "Simple Neon Blue Future Tech Keyboard Theme : 10,000,000+\n",
      "ai.type Free Emoji Keyboard : 10,000,000+\n",
      "TouchPal Purple Butterfly Theme : 1,000,000+\n",
      "2018Emoji Keyboard 😂 Emoticons Lite -sticker&gif : 10,000,000+\n",
      "Lavender Emoji Keyboard Theme : 1,000,000+\n",
      "C Launcher: Themes, Wallpapers, DIY, Smart, Clean : 10,000,000+\n",
      "M Launcher -Marshmallow 6.0 : 1,000,000+\n",
      "N Launcher - Nougat 7.0 : 1,000,000+\n",
      "OO Launcher for Android O 8.0 Oreo™ Launcher : 1,000,000+\n",
      "S Launcher for Galaxy TouchWiz : 1,000,000+\n",
      "Anime X Wallpaper : 1,000,000+\n",
      "Free Z Glass GO Keyboard Theme : 5,000,000+\n",
      "GO SMS Pro Z Glass Theme EX : 1,000,000+\n",
      "Theme eXp - Black Z Light : 1,000,000+\n",
      "Wave Z Live Wallpaper : 5,000,000+\n",
      "AcDisplay : 1,000,000+\n",
      "QuickShortcutMaker : 1,000,000+\n",
      "Earth & Moon in HD Gyro 3D Parallax Live Wallpaper : 5,000,000+\n",
      "One Launcher : 1,000,000+\n",
      "CB Background - Free HD Wallpaper Images : 1,000,000+\n",
      "Technology CM Locker Theme : 1,000,000+\n",
      "Siren Ringtones : 5,000,000+\n",
      "Love Fonts for FlipFont : 1,000,000+\n",
      "Apex Launcher : 10,000,000+\n",
      "Dp For WhatsApp : 1,000,000+\n",
      "DU Launcher - Boost Your Phone : 1,000,000+\n",
      "ES Themes -- Classic Theme : 1,000,000+\n",
      "GO SMS PRO EMOJI PLUGIN : 5,000,000+\n",
      "GO Launcher EX UI5.0 theme : 5,000,000+\n",
      "GLASS GO Launcher EX Theme : 1,000,000+\n",
      "CYANOGEN GO Launcher EX Theme : 5,000,000+\n",
      "EZ Launcher : 1,000,000+\n",
      "Stylish Fonts : 10,000,000+\n"
     ]
    }
   ],
   "source": [
    "for app in an_final:\n",
    "    if app[1] == 'PERSONALIZATION' and (app[5] == '1,000,000+'\n",
    "                                            or app[5] == '5,000,000+'\n",
    "                                            or app[5] == '10,000,000+'\n",
    "                                            or app[5] == '50,000,000+'):\n",
    "        print(app[0], ':', app[5])"
   ]
  },
  {
   "cell_type": "markdown",
   "metadata": {},
   "source": [
    "It seems there is no domination type in this niche, so it's probably not a good idea to build similar apps since there'll be some significant competition."
   ]
  },
  {
   "cell_type": "markdown",
   "metadata": {},
   "source": [
    "# Conclusions¶\n",
    "In this project, we analyzed data about the App Store and Google Play mobile apps with the goal of recommending an app profile that can be profitable for both markets.\n",
    "\n",
    "We concluded that Weather app could be profitable for App Store and Personalization app could be profitable for Google Play Store market. "
   ]
  }
 ],
 "metadata": {
  "kernelspec": {
   "display_name": "Python 3",
   "language": "python",
   "name": "python3"
  },
  "language_info": {
   "codemirror_mode": {
    "name": "ipython",
    "version": 3
   },
   "file_extension": ".py",
   "mimetype": "text/x-python",
   "name": "python",
   "nbconvert_exporter": "python",
   "pygments_lexer": "ipython3",
   "version": "3.8.2"
  }
 },
 "nbformat": 4,
 "nbformat_minor": 2
}
